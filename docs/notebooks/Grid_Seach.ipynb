{
 "cells": [
  {
   "cell_type": "code",
   "execution_count": 1,
   "id": "compatible-portfolio",
   "metadata": {},
   "outputs": [],
   "source": [
    "%matplotlib inline\n",
    "project_dir = '../../'\n",
    "data_dir = project_dir + 'data/'\n",
    "\n",
    "import sys\n",
    "sys.path.append(project_dir + 'NN/')\n",
    "\n",
    "import numpy as np\n",
    "import importlib\n",
    "import time\n",
    "import matplotlib.pyplot as plt\n",
    "import MLP\n",
    "import layer\n",
    "importlib.reload(MLP)\n",
    "importlib.reload(layer)\n",
    "from MLP import MLP\n",
    "from utils.preprocessing import split,Normalize"
   ]
  },
  {
   "cell_type": "code",
   "execution_count": 18,
   "id": "imported-stake",
   "metadata": {},
   "outputs": [
    {
     "name": "stdout",
     "output_type": "stream",
     "text": [
      "0 -> Parameters in dictionary are: {'p0': 1, 'p1': 'a', 'p2': 'alpha'}\n",
      "       The function get: (1, 'a', 'alpha')\n",
      "1 -> Parameters in dictionary are: {'p0': 1, 'p1': 'a', 'p2': 'beta'}\n",
      "       The function get: (1, 'a', 'beta')\n",
      "2 -> Parameters in dictionary are: {'p0': 1, 'p1': 'b', 'p2': 'alpha'}\n",
      "       The function get: (1, 'b', 'alpha')\n",
      "3 -> Parameters in dictionary are: {'p0': 1, 'p1': 'b', 'p2': 'beta'}\n",
      "       The function get: (1, 'b', 'beta')\n",
      "4 -> Parameters in dictionary are: {'p0': 2, 'p1': 'a', 'p2': 'alpha'}\n",
      "       The function get: (2, 'a', 'alpha')\n",
      "5 -> Parameters in dictionary are: {'p0': 2, 'p1': 'a', 'p2': 'beta'}\n",
      "       The function get: (2, 'a', 'beta')\n",
      "6 -> Parameters in dictionary are: {'p0': 2, 'p1': 'b', 'p2': 'alpha'}\n",
      "       The function get: (2, 'b', 'alpha')\n",
      "7 -> Parameters in dictionary are: {'p0': 2, 'p1': 'b', 'p2': 'beta'}\n",
      "       The function get: (2, 'b', 'beta')\n"
     ]
    }
   ],
   "source": [
    "import utils.grid_search\n",
    "importlib.reload(utils.grid_search)\n",
    "from utils.grid_search import grid_search\n",
    "l0 = [1,2]\n",
    "l1 = ['a', 'b']\n",
    "l2 = ['alpha', 'beta']\n",
    "d = {'p0': l0, 'p1': l1, 'p2':l2}\n",
    "def model(p0, p1, p2=1):\n",
    "    return p0, p1, p2\n",
    "grid_search(model, d)"
   ]
  }
 ],
 "metadata": {
  "kernelspec": {
   "display_name": "Python 3",
   "language": "python",
   "name": "python3"
  },
  "language_info": {
   "codemirror_mode": {
    "name": "ipython",
    "version": 3
   },
   "file_extension": ".py",
   "mimetype": "text/x-python",
   "name": "python",
   "nbconvert_exporter": "python",
   "pygments_lexer": "ipython3",
   "version": "3.9.5"
  }
 },
 "nbformat": 4,
 "nbformat_minor": 5
}
