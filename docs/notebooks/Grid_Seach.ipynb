{
 "cells": [
  {
   "cell_type": "code",
   "execution_count": 1,
   "id": "compatible-portfolio",
   "metadata": {},
   "outputs": [],
   "source": [
    "%matplotlib inline\n",
    "project_dir = '../../'\n",
    "data_dir = project_dir + 'data/'\n",
    "\n",
    "import sys\n",
    "sys.path.append(project_dir + 'NN/')\n",
    "\n",
    "import numpy as np\n",
    "import importlib\n",
    "import time\n",
    "import matplotlib.pyplot as plt\n",
    "import MLP\n",
    "import layer\n",
    "importlib.reload(MLP)\n",
    "importlib.reload(layer)\n",
    "from MLP import MLP\n",
    "from utils.preprocessing import split,Normalize"
   ]
  },
  {
   "cell_type": "code",
   "execution_count": 4,
   "id": "imported-stake",
   "metadata": {},
   "outputs": [],
   "source": [
    "import utils.grid_search\n",
    "importlib.reload(utils.grid_search)\n",
    "from utils.grid_search import grid_search\n",
    "l0 = [1,2]\n",
    "l1 = ['a', 'b']\n",
    "l2 = ['alpha', 'beta']\n",
    "# remem\n",
    "d = {'model_p0': l0, 'model_p1': l1, 'train_p2':l2}\n",
    "\n",
    "class model:\n",
    "    \n",
    "    def __init__(self, p0, p1):\n",
    "        self.p0 = p0\n",
    "        self.p1 = p1\n",
    "    \n",
    "    def train(self, input_data, p2):\n",
    "        self.p2 = p2\n",
    "\n",
    "grid_search(model, d)"
   ]
  },
  {
   "cell_type": "code",
   "execution_count": null,
   "id": "textile-oklahoma",
   "metadata": {},
   "outputs": [],
   "source": []
  }
 ],
 "metadata": {
  "kernelspec": {
   "display_name": "Python 3",
   "language": "python",
   "name": "python3"
  },
  "language_info": {
   "codemirror_mode": {
    "name": "ipython",
    "version": 3
   },
   "file_extension": ".py",
   "mimetype": "text/x-python",
   "name": "python",
   "nbconvert_exporter": "python",
   "pygments_lexer": "ipython3",
   "version": "3.9.5"
  }
 },
 "nbformat": 4,
 "nbformat_minor": 5
}
