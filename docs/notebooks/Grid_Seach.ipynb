{
 "cells": [
  {
   "cell_type": "code",
   "execution_count": 1,
   "id": "compatible-portfolio",
   "metadata": {},
   "outputs": [],
   "source": [
    "%matplotlib inline\n",
    "project_dir = '../../'\n",
    "data_dir = project_dir + 'data/'\n",
    "\n",
    "import sys\n",
    "sys.path.append(project_dir + 'NN/')\n",
    "\n",
    "import numpy as np\n",
    "import importlib\n",
    "import time\n",
    "import matplotlib.pyplot as plt\n",
    "import MLP\n",
    "import layer\n",
    "importlib.reload(MLP)\n",
    "importlib.reload(layer)\n",
    "from MLP import MLP\n",
    "from utils.preprocessing import split,Normalize\n",
    "from utils.losses import MSE, MEE"
   ]
  },
  {
   "cell_type": "code",
   "execution_count": 2,
   "id": "ethical-irrigation",
   "metadata": {},
   "outputs": [],
   "source": [
    "raw_data=np.loadtxt(\"../../data/TR.csv\",delimiter=\",\")[:,1:]\n",
    "np.random.shuffle(raw_data)\n",
    "\n",
    "input_data=raw_data[:,1:-2]\n",
    "labels=raw_data[:,-2:]"
   ]
  },
  {
   "cell_type": "code",
   "execution_count": 15,
   "id": "neither-radius",
   "metadata": {
    "scrolled": false
   },
   "outputs": [
    {
     "name": "stdout",
     "output_type": "stream",
     "text": [
      "0 on 12: Model Model0 --> Train parameters: {'eta': 0.1, 'alpha': 0.1, 'lamb': 0.001, 'epoch': 50, 'RMSProp': False}\n",
      "Epoch 50:  [train MEE = 1.7589]  [val MEE = 1.8298]                              \n",
      "Elapsed time: 0.5196859836578369 s\n",
      "Epoch 50:  [train MEE = 1.9062]  [val MEE = 1.8920]                              \n",
      "Elapsed time: 0.40140795707702637 s\n",
      "\n",
      "\n",
      "1 on 12: Model Model0 --> Train parameters: {'eta': 0.1, 'alpha': 0.1, 'lamb': 0, 'epoch': 50, 'RMSProp': False}\n",
      "Epoch 50:  [train MEE = 1.7637]  [val MEE = 1.8246]                              \n",
      "Elapsed time: 0.537344217300415 s\n",
      "Epoch 50:  [train MEE = 1.8404]  [val MEE = 1.8173]                              \n",
      "Elapsed time: 0.6802167892456055 s\n",
      "\n",
      "\n",
      "2 on 12: Model Model0 --> Train parameters: {'eta': 0.1, 'alpha': 0.001, 'lamb': 0.001, 'epoch': 50, 'RMSProp': False}\n",
      "Epoch 50:  [train MEE = 1.8130]  [val MEE = 1.8679]                              \n",
      "Elapsed time: 0.7506048679351807 s\n",
      "Epoch 50:  [train MEE = 1.8785]  [val MEE = 1.8596]                              \n",
      "Elapsed time: 0.7870738506317139 s\n",
      "\n",
      "\n",
      "3 on 12: Model Model0 --> Train parameters: {'eta': 0.1, 'alpha': 0.001, 'lamb': 0, 'epoch': 50, 'RMSProp': False}\n",
      "Epoch 50:  [train MEE = 1.7887]  [val MEE = 1.8422]                              \n",
      "Elapsed time: 0.831906795501709 s\n",
      "Epoch 50:  [train MEE = 1.8706]  [val MEE = 1.8435]                              \n",
      "Elapsed time: 0.7429273128509521 s\n",
      "\n",
      "\n",
      "4 on 12: Model Model0 --> Train parameters: {'eta': 0.1, 'alpha': 0, 'lamb': 0.001, 'epoch': 50, 'RMSProp': False}\n",
      "[Epoch 37]  [train MEE = 1.9242]  [val MEE = 1.9608]  [wait 0.2 s]          \r"
     ]
    },
    {
     "ename": "KeyboardInterrupt",
     "evalue": "",
     "output_type": "error",
     "traceback": [
      "\u001b[0;31m---------------------------------------------------------------------------\u001b[0m",
      "\u001b[0;31mKeyboardInterrupt\u001b[0m                         Traceback (most recent call last)",
      "\u001b[0;32m/tmp/ipykernel_4273/3475259802.py\u001b[0m in \u001b[0;36m<module>\u001b[0;34m\u001b[0m\n\u001b[1;32m     15\u001b[0m \u001b[0mdict_params\u001b[0m \u001b[0;34m=\u001b[0m \u001b[0;34m{\u001b[0m\u001b[0;34m'eta'\u001b[0m\u001b[0;34m:\u001b[0m\u001b[0mlist_eta\u001b[0m\u001b[0;34m,\u001b[0m \u001b[0;34m'alpha'\u001b[0m\u001b[0;34m:\u001b[0m\u001b[0mlist_alpha\u001b[0m\u001b[0;34m,\u001b[0m \u001b[0;34m'lamb'\u001b[0m\u001b[0;34m:\u001b[0m\u001b[0mlist_lamb\u001b[0m\u001b[0;34m,\u001b[0m \u001b[0;34m'epoch'\u001b[0m\u001b[0;34m:\u001b[0m\u001b[0;34m[\u001b[0m\u001b[0;36m50\u001b[0m\u001b[0;34m]\u001b[0m\u001b[0;34m,\u001b[0m \u001b[0;34m'RMSProp'\u001b[0m \u001b[0;34m:\u001b[0m \u001b[0;34m[\u001b[0m\u001b[0;32mFalse\u001b[0m\u001b[0;34m]\u001b[0m\u001b[0;34m}\u001b[0m\u001b[0;34m\u001b[0m\u001b[0;34m\u001b[0m\u001b[0m\n\u001b[1;32m     16\u001b[0m \u001b[0;34m\u001b[0m\u001b[0m\n\u001b[0;32m---> 17\u001b[0;31m grid_results = grid_search(MLP, dict_models, dict_params, \n\u001b[0m\u001b[1;32m     18\u001b[0m                            \u001b[0minput_data\u001b[0m\u001b[0;34m,\u001b[0m \u001b[0mlabels\u001b[0m\u001b[0;34m,\u001b[0m \u001b[0mMEE\u001b[0m\u001b[0;34m,\u001b[0m\u001b[0;34m\u001b[0m\u001b[0;34m\u001b[0m\u001b[0m\n\u001b[1;32m     19\u001b[0m                            verbose = 1, kind = 'k_fold', k = 2)\n",
      "\u001b[0;32m~/uni/ML/docs/notebooks/../../NN/utils/grid_search.py\u001b[0m in \u001b[0;36mgrid_search\u001b[0;34m(model, dict_models, dict_params, input_data, labels, error, verbose, **kwargs)\u001b[0m\n\u001b[1;32m     88\u001b[0m \u001b[0;34m\u001b[0m\u001b[0m\n\u001b[1;32m     89\u001b[0m                 \u001b[0;31m# Train the candidate with the parameters in dict_params['train']\u001b[0m\u001b[0;34m\u001b[0m\u001b[0;34m\u001b[0m\u001b[0m\n\u001b[0;32m---> 90\u001b[0;31m                 candidate.train(data_k, labels_k, val_k, val_labels_k, \n\u001b[0m\u001b[1;32m     91\u001b[0m                         **dict_candidate['train'])\n\u001b[1;32m     92\u001b[0m                 \u001b[0;31m# predict on validation data\u001b[0m\u001b[0;34m\u001b[0m\u001b[0;34m\u001b[0m\u001b[0m\n",
      "\u001b[0;32m~/uni/ML/docs/notebooks/../../NN/MLP.py\u001b[0m in \u001b[0;36mtrain\u001b[0;34m(self, input_data, labels, val_data, val_labels, epoch, eta, eta_params, lamb, norm_L, alpha, nesterov, clean_net, save_rate, batch_size, filename, verbose, RMSProp, beta)\u001b[0m\n\u001b[1;32m    181\u001b[0m                 \u001b[0mself\u001b[0m\u001b[0;34m.\u001b[0m\u001b[0mfeedforward\u001b[0m\u001b[0;34m(\u001b[0m\u001b[0;34m)\u001b[0m\u001b[0;34m\u001b[0m\u001b[0;34m\u001b[0m\u001b[0m\n\u001b[1;32m    182\u001b[0m             \u001b[0;32melse\u001b[0m\u001b[0;34m:\u001b[0m\u001b[0;34m\u001b[0m\u001b[0;34m\u001b[0m\u001b[0m\n\u001b[0;32m--> 183\u001b[0;31m                 \u001b[0mself\u001b[0m\u001b[0;34m.\u001b[0m\u001b[0mfeedforward\u001b[0m\u001b[0;34m(\u001b[0m\u001b[0;34m)\u001b[0m\u001b[0;34m\u001b[0m\u001b[0;34m\u001b[0m\u001b[0m\n\u001b[0m\u001b[1;32m    184\u001b[0m                 \u001b[0mself\u001b[0m\u001b[0;34m.\u001b[0m\u001b[0mlearning_step\u001b[0m\u001b[0;34m(\u001b[0m\u001b[0mlabels\u001b[0m\u001b[0;34m)\u001b[0m\u001b[0;34m\u001b[0m\u001b[0;34m\u001b[0m\u001b[0m\n\u001b[1;32m    185\u001b[0m             \u001b[0mMEE\u001b[0m\u001b[0;34m,\u001b[0m \u001b[0mMSE\u001b[0m \u001b[0;34m=\u001b[0m \u001b[0mMEE_MSE\u001b[0m\u001b[0;34m(\u001b[0m\u001b[0mlabels\u001b[0m\u001b[0;34m,\u001b[0m\u001b[0mself\u001b[0m\u001b[0;34m.\u001b[0m\u001b[0mnetwork\u001b[0m\u001b[0;34m[\u001b[0m\u001b[0;34m-\u001b[0m\u001b[0;36m1\u001b[0m\u001b[0;34m]\u001b[0m\u001b[0;34m.\u001b[0m\u001b[0mout\u001b[0m\u001b[0;34m)\u001b[0m\u001b[0;34m\u001b[0m\u001b[0;34m\u001b[0m\u001b[0m\n",
      "\u001b[0;32m~/uni/ML/docs/notebooks/../../NN/MLP.py\u001b[0m in \u001b[0;36mfeedforward\u001b[0;34m(self)\u001b[0m\n\u001b[1;32m    275\u001b[0m         \u001b[0;34m\"\"\" Move the input to the output of the net\"\"\"\u001b[0m\u001b[0;34m\u001b[0m\u001b[0;34m\u001b[0m\u001b[0m\n\u001b[1;32m    276\u001b[0m         \u001b[0;32mfor\u001b[0m \u001b[0mlay_prev\u001b[0m\u001b[0;34m,\u001b[0m\u001b[0mlay_next\u001b[0m \u001b[0;32min\u001b[0m \u001b[0mzip\u001b[0m\u001b[0;34m(\u001b[0m\u001b[0mself\u001b[0m\u001b[0;34m.\u001b[0m\u001b[0mnetwork\u001b[0m\u001b[0;34m[\u001b[0m\u001b[0;34m:\u001b[0m\u001b[0;34m-\u001b[0m\u001b[0;36m1\u001b[0m\u001b[0;34m:\u001b[0m\u001b[0;34m]\u001b[0m\u001b[0;34m,\u001b[0m\u001b[0mself\u001b[0m\u001b[0;34m.\u001b[0m\u001b[0mnetwork\u001b[0m\u001b[0;34m[\u001b[0m\u001b[0;36m1\u001b[0m\u001b[0;34m:\u001b[0m\u001b[0;34m:\u001b[0m\u001b[0;34m]\u001b[0m\u001b[0;34m)\u001b[0m\u001b[0;34m:\u001b[0m\u001b[0;34m\u001b[0m\u001b[0;34m\u001b[0m\u001b[0m\n\u001b[0;32m--> 277\u001b[0;31m             \u001b[0mlay_next\u001b[0m\u001b[0;34m.\u001b[0m\u001b[0minput\u001b[0m\u001b[0;34m=\u001b[0m\u001b[0mlay_prev\u001b[0m\u001b[0;34m.\u001b[0m\u001b[0mout\u001b[0m\u001b[0;34m\u001b[0m\u001b[0;34m\u001b[0m\u001b[0m\n\u001b[0m\u001b[1;32m    278\u001b[0m \u001b[0;34m\u001b[0m\u001b[0m\n\u001b[1;32m    279\u001b[0m     \u001b[0;32mdef\u001b[0m \u001b[0mfeedforward_validation\u001b[0m\u001b[0;34m(\u001b[0m\u001b[0mself\u001b[0m\u001b[0;34m)\u001b[0m\u001b[0;34m:\u001b[0m\u001b[0;34m\u001b[0m\u001b[0;34m\u001b[0m\u001b[0m\n",
      "\u001b[0;32m~/uni/ML/docs/notebooks/../../NN/layer.py\u001b[0m in \u001b[0;36mout\u001b[0;34m(self)\u001b[0m\n\u001b[1;32m    108\u001b[0m         \"\"\"\n\u001b[1;32m    109\u001b[0m         \u001b[0;31m#scorrendo le colonne trovi i net di tutti i neuroni, scorrendo le righe cambi pattern\u001b[0m\u001b[0;34m\u001b[0m\u001b[0;34m\u001b[0m\u001b[0m\n\u001b[0;32m--> 110\u001b[0;31m         \u001b[0;32mreturn\u001b[0m \u001b[0mself\u001b[0m\u001b[0;34m.\u001b[0m\u001b[0mfunc\u001b[0m\u001b[0;34m(\u001b[0m\u001b[0mself\u001b[0m\u001b[0;34m.\u001b[0m\u001b[0mnet\u001b[0m\u001b[0;34m)\u001b[0m\u001b[0;34m\u001b[0m\u001b[0;34m\u001b[0m\u001b[0m\n\u001b[0m\u001b[1;32m    111\u001b[0m \u001b[0;34m\u001b[0m\u001b[0m\n\u001b[1;32m    112\u001b[0m     \u001b[0;34m@\u001b[0m\u001b[0mproperty\u001b[0m\u001b[0;34m\u001b[0m\u001b[0;34m\u001b[0m\u001b[0m\n",
      "\u001b[0;32m~/uni/ML/docs/notebooks/../../NN/layer.py\u001b[0m in \u001b[0;36mnet\u001b[0;34m(self)\u001b[0m\n\u001b[1;32m     91\u001b[0m         \u001b[0mweight\u001b[0m \u001b[0;34m(\u001b[0m\u001b[0madding\u001b[0m \u001b[0mthe\u001b[0m \u001b[0mbias\u001b[0m\u001b[0;34m)\u001b[0m\u001b[0;34m.\u001b[0m\u001b[0;34m\u001b[0m\u001b[0;34m\u001b[0m\u001b[0m\n\u001b[1;32m     92\u001b[0m         \"\"\"\n\u001b[0;32m---> 93\u001b[0;31m         \u001b[0;32mreturn\u001b[0m \u001b[0mself\u001b[0m\u001b[0;34m.\u001b[0m\u001b[0minput\u001b[0m\u001b[0;34m.\u001b[0m\u001b[0mdot\u001b[0m\u001b[0;34m(\u001b[0m \u001b[0mself\u001b[0m\u001b[0;34m.\u001b[0m\u001b[0mweight\u001b[0m\u001b[0;34m.\u001b[0m\u001b[0mT\u001b[0m \u001b[0;34m)\u001b[0m \u001b[0;34m+\u001b[0m \u001b[0mself\u001b[0m\u001b[0;34m.\u001b[0m\u001b[0mbias\u001b[0m\u001b[0;34m\u001b[0m\u001b[0;34m\u001b[0m\u001b[0m\n\u001b[0m\u001b[1;32m     94\u001b[0m \u001b[0;34m\u001b[0m\u001b[0m\n\u001b[1;32m     95\u001b[0m     \u001b[0;34m@\u001b[0m\u001b[0mproperty\u001b[0m\u001b[0;34m\u001b[0m\u001b[0;34m\u001b[0m\u001b[0m\n",
      "\u001b[0;31mKeyboardInterrupt\u001b[0m: "
     ]
    }
   ],
   "source": [
    "import utils.grid_search\n",
    "importlib.reload(utils.grid_search)\n",
    "from utils.grid_search import grid_search\n",
    "\n",
    "# Structure to test: \n",
    "n_feat = np.shape(labels)[1]\n",
    "model1 = {'structure':[40, n_feat], 'func':['sigmoid', 'linear'], 'starting_points': [0.5]*2}\n",
    "model2 = {'structure':[10, n_feat], 'func':['sigmoid','linear'], 'starting_points': [0.5]*2}\n",
    "models = [model1, model2]\n",
    "dict_models = {f'Model{i}': m for i, m in enumerate(models)} \n",
    "\n",
    "list_eta = [1e-1]\n",
    "list_alpha = [1e-1, 1e-3, 0]\n",
    "list_lamb = [1e-3, 0]\n",
    "dict_params = {'eta':list_eta, 'alpha':list_alpha, 'lamb':list_lamb, 'epoch':[50], 'RMSProp' : [False]}\n",
    "\n",
    "grid_results = grid_search(MLP, dict_models, dict_params, \n",
    "                           input_data, labels, MEE,\n",
    "                           verbose = 1, kind = 'k_fold', k = 2)"
   ]
  },
  {
   "cell_type": "code",
   "execution_count": 4,
   "id": "clean-membrane",
   "metadata": {},
   "outputs": [
    {
     "data": {
      "text/plain": [
       "[{'train': {'eta': 0.1, 'alpha': 0.1, 'lamb': 0, 'epoch': 500},\n",
       "  'model': {'structure': [40, 2],\n",
       "   'func': ['sigmoid', 'linear'],\n",
       "   'starting_points': [0.5, 0.5]},\n",
       "  'model_name': 'Pippo',\n",
       "  'Error': 1.3224420861707522},\n",
       " {'train': {'eta': 0.1, 'alpha': 0.1, 'lamb': 0, 'epoch': 500},\n",
       "  'model': {'structure': [10, 2],\n",
       "   'func': ['sigmoid', 'linear'],\n",
       "   'starting_points': [0.5, 0.5]},\n",
       "  'model_name': 'Pluto',\n",
       "  'Error': 1.3321607953205634},\n",
       " {'train': {'eta': 0.1, 'alpha': 0, 'lamb': 0, 'epoch': 500},\n",
       "  'model': {'structure': [40, 2],\n",
       "   'func': ['sigmoid', 'linear'],\n",
       "   'starting_points': [0.5, 0.5]},\n",
       "  'model_name': 'Pippo',\n",
       "  'Error': 1.3480596983308235},\n",
       " {'train': {'eta': 0.1, 'alpha': 0, 'lamb': 0, 'epoch': 500},\n",
       "  'model': {'structure': [10, 2],\n",
       "   'func': ['sigmoid', 'linear'],\n",
       "   'starting_points': [0.5, 0.5]},\n",
       "  'model_name': 'Pluto',\n",
       "  'Error': 1.348380934177355},\n",
       " {'train': {'eta': 0.1, 'alpha': 0.001, 'lamb': 0, 'epoch': 500},\n",
       "  'model': {'structure': [40, 2],\n",
       "   'func': ['sigmoid', 'linear'],\n",
       "   'starting_points': [0.5, 0.5]},\n",
       "  'model_name': 'Pippo',\n",
       "  'Error': 1.382586084759756},\n",
       " {'train': {'eta': 0.1, 'alpha': 0.001, 'lamb': 0, 'epoch': 500},\n",
       "  'model': {'structure': [10, 2],\n",
       "   'func': ['sigmoid', 'linear'],\n",
       "   'starting_points': [0.5, 0.5]},\n",
       "  'model_name': 'Pluto',\n",
       "  'Error': 1.3853009563959138},\n",
       " {'train': {'eta': 0.1, 'alpha': 0.1, 'lamb': 0.001, 'epoch': 500},\n",
       "  'model': {'structure': [40, 2],\n",
       "   'func': ['sigmoid', 'linear'],\n",
       "   'starting_points': [0.5, 0.5]},\n",
       "  'model_name': 'Pippo',\n",
       "  'Error': 1.3920734003647843},\n",
       " {'train': {'eta': 0.1, 'alpha': 0.1, 'lamb': 0.001, 'epoch': 500},\n",
       "  'model': {'structure': [10, 2],\n",
       "   'func': ['sigmoid', 'linear'],\n",
       "   'starting_points': [0.5, 0.5]},\n",
       "  'model_name': 'Pluto',\n",
       "  'Error': 1.402889256623648},\n",
       " {'train': {'eta': 0.1, 'alpha': 0, 'lamb': 0.001, 'epoch': 500},\n",
       "  'model': {'structure': [10, 2],\n",
       "   'func': ['sigmoid', 'linear'],\n",
       "   'starting_points': [0.5, 0.5]},\n",
       "  'model_name': 'Pluto',\n",
       "  'Error': 1.40336998979501},\n",
       " {'train': {'eta': 0.1, 'alpha': 0.001, 'lamb': 0.001, 'epoch': 500},\n",
       "  'model': {'structure': [10, 2],\n",
       "   'func': ['sigmoid', 'linear'],\n",
       "   'starting_points': [0.5, 0.5]},\n",
       "  'model_name': 'Pluto',\n",
       "  'Error': 1.4120104562079334},\n",
       " {'train': {'eta': 0.1, 'alpha': 0, 'lamb': 0.001, 'epoch': 500},\n",
       "  'model': {'structure': [40, 2],\n",
       "   'func': ['sigmoid', 'linear'],\n",
       "   'starting_points': [0.5, 0.5]},\n",
       "  'model_name': 'Pippo',\n",
       "  'Error': 1.4371083967143357},\n",
       " {'train': {'eta': 0.1, 'alpha': 0.001, 'lamb': 0.001, 'epoch': 500},\n",
       "  'model': {'structure': [40, 2],\n",
       "   'func': ['sigmoid', 'linear'],\n",
       "   'starting_points': [0.5, 0.5]},\n",
       "  'model_name': 'Pippo',\n",
       "  'Error': 1.4674610199309108}]"
      ]
     },
     "execution_count": 4,
     "metadata": {},
     "output_type": "execute_result"
    }
   ],
   "source": [
    "grid_results"
   ]
  }
 ],
 "metadata": {
  "kernelspec": {
   "display_name": "Python 3 (ipykernel)",
   "language": "python",
   "name": "python3"
  },
  "language_info": {
   "codemirror_mode": {
    "name": "ipython",
    "version": 3
   },
   "file_extension": ".py",
   "mimetype": "text/x-python",
   "name": "python",
   "nbconvert_exporter": "python",
   "pygments_lexer": "ipython3",
   "version": "3.9.7"
  }
 },
 "nbformat": 4,
 "nbformat_minor": 5
}
