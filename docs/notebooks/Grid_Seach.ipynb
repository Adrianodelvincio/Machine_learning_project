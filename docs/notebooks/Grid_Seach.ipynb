{
 "cells": [
  {
   "cell_type": "code",
   "execution_count": 36,
   "id": "compatible-portfolio",
   "metadata": {},
   "outputs": [],
   "source": [
    "%matplotlib inline\n",
    "project_dir = '../../'\n",
    "data_dir = project_dir + 'data/'\n",
    "\n",
    "import sys\n",
    "sys.path.append(project_dir + 'NN/')\n",
    "\n",
    "import numpy as np\n",
    "import importlib\n",
    "import time\n",
    "import matplotlib.pyplot as plt\n",
    "import MLP\n",
    "import layer\n",
    "importlib.reload(MLP)\n",
    "importlib.reload(layer)\n",
    "from MLP import MLP\n",
    "from utils.preprocessing import split,Normalize"
   ]
  },
  {
   "cell_type": "code",
   "execution_count": 37,
   "id": "imported-stake",
   "metadata": {},
   "outputs": [
    {
     "name": "stdout",
     "output_type": "stream",
     "text": [
      "(1, 'a', 'alpha')\n",
      "(1, 'a', 'beta')\n",
      "(1, 'b', 'alpha')\n",
      "(1, 'b', 'beta')\n",
      "(1, 'c', 'alpha')\n",
      "(1, 'c', 'beta')\n",
      "(2, 'a', 'alpha')\n",
      "(2, 'a', 'beta')\n",
      "(2, 'b', 'alpha')\n",
      "(2, 'b', 'beta')\n",
      "(2, 'c', 'alpha')\n",
      "(2, 'c', 'beta')\n",
      "(3, 'a', 'alpha')\n",
      "(3, 'a', 'beta')\n",
      "(3, 'b', 'alpha')\n",
      "(3, 'b', 'beta')\n",
      "(3, 'c', 'alpha')\n",
      "(3, 'c', 'beta')\n",
      "[{'p0': 1, 'p1': 'a', 'p3': 'alpha'}, {'p0': 1, 'p1': 'a', 'p3': 'beta'}, {'p0': 1, 'p1': 'b', 'p3': 'alpha'}, {'p0': 1, 'p1': 'b', 'p3': 'beta'}, {'p0': 1, 'p1': 'c', 'p3': 'alpha'}, {'p0': 1, 'p1': 'c', 'p3': 'beta'}, {'p0': 2, 'p1': 'a', 'p3': 'alpha'}, {'p0': 2, 'p1': 'a', 'p3': 'beta'}, {'p0': 2, 'p1': 'b', 'p3': 'alpha'}, {'p0': 2, 'p1': 'b', 'p3': 'beta'}, {'p0': 2, 'p1': 'c', 'p3': 'alpha'}, {'p0': 2, 'p1': 'c', 'p3': 'beta'}, {'p0': 3, 'p1': 'a', 'p3': 'alpha'}, {'p0': 3, 'p1': 'a', 'p3': 'beta'}, {'p0': 3, 'p1': 'b', 'p3': 'alpha'}, {'p0': 3, 'p1': 'b', 'p3': 'beta'}, {'p0': 3, 'p1': 'c', 'p3': 'alpha'}, {'p0': 3, 'p1': 'c', 'p3': 'beta'}]\n"
     ]
    }
   ],
   "source": [
    "import utils.grid_search\n",
    "importlib.reload(utils.grid_search)\n",
    "from utils.grid_search import grid_search\n",
    "l1 = [1,2,3]\n",
    "l2 = ['a', 'b', 'c']\n",
    "l3 = ['alpha', 'beta']\n",
    "d = {'p0': l1, 'p1': l2, 'p3':l3}\n",
    "grid_search(0, d)"
   ]
  }
 ],
 "metadata": {
  "kernelspec": {
   "display_name": "Python 3",
   "language": "python",
   "name": "python3"
  },
  "language_info": {
   "codemirror_mode": {
    "name": "ipython",
    "version": 3
   },
   "file_extension": ".py",
   "mimetype": "text/x-python",
   "name": "python",
   "nbconvert_exporter": "python",
   "pygments_lexer": "ipython3",
   "version": "3.9.5"
  }
 },
 "nbformat": 4,
 "nbformat_minor": 5
}
