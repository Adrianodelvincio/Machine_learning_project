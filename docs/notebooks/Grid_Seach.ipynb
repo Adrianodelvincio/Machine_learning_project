{
 "cells": [
  {
   "cell_type": "code",
   "execution_count": 4,
   "id": "compatible-portfolio",
   "metadata": {},
   "outputs": [],
   "source": [
    "%matplotlib inline\n",
    "project_dir = '../../'\n",
    "data_dir = project_dir + 'data/'\n",
    "\n",
    "import sys\n",
    "sys.path.append(project_dir + 'NN/')\n",
    "\n",
    "import numpy as np\n",
    "import importlib\n",
    "import time\n",
    "import matplotlib.pyplot as plt\n",
    "import MLP\n",
    "import layer\n",
    "importlib.reload(MLP)\n",
    "importlib.reload(layer)\n",
    "from MLP import MLP\n",
    "from utils.preprocessing import split,Normalize\n",
    "from utils.losses import MSE, MEE"
   ]
  },
  {
   "cell_type": "code",
   "execution_count": 5,
   "id": "ethical-irrigation",
   "metadata": {},
   "outputs": [],
   "source": [
    "raw_data=np.loadtxt(\"../../data/TR.csv\",delimiter=\",\")[:,1:]\n",
    "np.random.shuffle(raw_data)\n",
    "\n",
    "input_data=raw_data[:,1:-2]\n",
    "labels=raw_data[:,-2:]"
   ]
  },
  {
   "cell_type": "code",
   "execution_count": 6,
   "id": "neither-radius",
   "metadata": {
    "scrolled": false
   },
   "outputs": [
    {
     "name": "stdout",
     "output_type": "stream",
     "text": [
      "0 on 7200: Model Model0 --> Train parameters: {'eta': 0.01, 'alpha': 0.0, 'lamb': 0.0, 'epoch': 1000, 'RMSProp': True, 'nesterov': True, 'beta': 0.6}\n",
      "Epoch 1000:  [train MEE = 1.2121]  [val MEE = 1.3139]                              \n",
      "Elapsed time: 8.33719778060913 s\n",
      "Epoch 1000:  [train MEE = 1.2300]  [val MEE = 1.2760]                              \n",
      "Elapsed time: 7.849121332168579 s\n",
      "Epoch 1000:  [train MEE = 1.1836]  [val MEE = 1.2347]                              \n",
      "Elapsed time: 7.590497970581055 s\n",
      "Epoch 1000:  [train MEE = 1.2189]  [val MEE = 1.2880]                              \n",
      "Elapsed time: 7.635863542556763 s\n",
      "\n",
      "\n",
      "1 on 7200: Model Model0 --> Train parameters: {'eta': 0.01, 'alpha': 0.0, 'lamb': 0.0, 'epoch': 1000, 'RMSProp': True, 'nesterov': True, 'beta': 0.7}\n",
      "Epoch 1000:  [train MEE = 1.2183]  [val MEE = 1.3070]                              \n",
      "Elapsed time: 7.942722320556641 s\n",
      "Epoch 1000:  [train MEE = 1.2001]  [val MEE = 1.2915]                              \n",
      "Elapsed time: 7.822643518447876 s\n",
      "Epoch 1000:  [train MEE = 1.1621]  [val MEE = 1.2254]                              \n",
      "Elapsed time: 7.868279933929443 s\n",
      "Epoch 1000:  [train MEE = 1.2199]  [val MEE = 1.2748]                              \n",
      "Elapsed time: 7.89245080947876 s\n",
      "\n",
      "\n",
      "2 on 7200: Model Model0 --> Train parameters: {'eta': 0.01, 'alpha': 0.0, 'lamb': 0.0, 'epoch': 1000, 'RMSProp': True, 'nesterov': True, 'beta': 0.7999999999999999}\n",
      "Epoch 1000:  [train MEE = 1.2126]  [val MEE = 1.3371]                              \n",
      "Elapsed time: 8.022972822189331 s\n",
      "Epoch 1000:  [train MEE = 1.2424]  [val MEE = 1.2901]                              \n",
      "Elapsed time: 8.050782918930054 s\n",
      "Epoch 1000:  [train MEE = 1.2151]  [val MEE = 1.2783]                              \n",
      "Elapsed time: 8.14496636390686 s\n",
      "Epoch 1000:  [train MEE = 1.2130]  [val MEE = 1.2567]                              \n",
      "Elapsed time: 7.780355453491211 s\n",
      "\n",
      "\n",
      "3 on 7200: Model Model0 --> Train parameters: {'eta': 0.01, 'alpha': 0.0, 'lamb': 0.0, 'epoch': 1000, 'RMSProp': True, 'nesterov': True, 'beta': 0.8999999999999999}\n",
      "Epoch 1000:  [train MEE = 1.2081]  [val MEE = 1.3024]                              \n",
      "Elapsed time: 7.577404022216797 s\n",
      "Epoch 1000:  [train MEE = 1.2200]  [val MEE = 1.2717]                              \n",
      "Elapsed time: 7.282519578933716 s\n",
      "Epoch 1000:  [train MEE = 1.2289]  [val MEE = 1.2876]                              \n",
      "Elapsed time: 7.239603042602539 s\n",
      "Epoch 1000:  [train MEE = 1.1910]  [val MEE = 1.2669]                              \n",
      "Elapsed time: 7.325230598449707 s\n",
      "\n",
      "\n",
      "4 on 7200: Model Model0 --> Train parameters: {'eta': 0.01, 'alpha': 0.0, 'lamb': 0.0, 'epoch': 1000, 'RMSProp': True, 'nesterov': False, 'beta': 0.6}\n",
      "Epoch 1000:  [train MEE = 1.2057]  [val MEE = 1.3197]                              \n",
      "Elapsed time: 7.256438493728638 s\n",
      "Epoch 1000:  [train MEE = 1.2197]  [val MEE = 1.2799]                              \n",
      "Elapsed time: 7.466989755630493 s\n",
      "Epoch 1000:  [train MEE = 1.1987]  [val MEE = 1.2734]                              \n",
      "Elapsed time: 7.284654140472412 s\n",
      "Epoch 1000:  [train MEE = 1.2365]  [val MEE = 1.2940]                              \n",
      "Elapsed time: 7.181707143783569 s\n",
      "\n",
      "\n",
      "5 on 7200: Model Model0 --> Train parameters: {'eta': 0.01, 'alpha': 0.0, 'lamb': 0.0, 'epoch': 1000, 'RMSProp': True, 'nesterov': False, 'beta': 0.7}\n",
      "Epoch 1000:  [train MEE = 1.2054]  [val MEE = 1.2986]                              \n",
      "Elapsed time: 7.188110828399658 s\n",
      "Epoch 1000:  [train MEE = 1.2128]  [val MEE = 1.2687]                              \n",
      "Elapsed time: 7.626589059829712 s\n",
      "Epoch 1000:  [train MEE = 1.2104]  [val MEE = 1.2903]                              \n",
      "Elapsed time: 7.3965349197387695 s\n",
      "Epoch 1000:  [train MEE = 1.2099]  [val MEE = 1.2778]                              \n",
      "Elapsed time: 7.7421653270721436 s\n",
      "\n",
      "\n",
      "6 on 7200: Model Model0 --> Train parameters: {'eta': 0.01, 'alpha': 0.0, 'lamb': 0.0, 'epoch': 1000, 'RMSProp': True, 'nesterov': False, 'beta': 0.7999999999999999}\n",
      "[Epoch 870]  [train MEE = 1.2418]  [val MEE = 1.3368]  [wait 0.8 s]            \r"
     ]
    },
    {
     "ename": "KeyboardInterrupt",
     "evalue": "",
     "output_type": "error",
     "traceback": [
      "\u001b[0;31m---------------------------------------------------------------------------\u001b[0m",
      "\u001b[0;31mKeyboardInterrupt\u001b[0m                         Traceback (most recent call last)",
      "\u001b[0;32m/tmp/ipykernel_5380/2575545617.py\u001b[0m in \u001b[0;36m<module>\u001b[0;34m\u001b[0m\n\u001b[1;32m     19\u001b[0m \u001b[0mdict_params\u001b[0m \u001b[0;34m=\u001b[0m \u001b[0;34m{\u001b[0m\u001b[0;34m'eta'\u001b[0m\u001b[0;34m:\u001b[0m\u001b[0mlist_eta\u001b[0m\u001b[0;34m,\u001b[0m \u001b[0;34m'alpha'\u001b[0m\u001b[0;34m:\u001b[0m\u001b[0mlist_alpha\u001b[0m\u001b[0;34m,\u001b[0m \u001b[0;34m'lamb'\u001b[0m\u001b[0;34m:\u001b[0m\u001b[0mlist_lamb\u001b[0m\u001b[0;34m,\u001b[0m \u001b[0;34m'epoch'\u001b[0m\u001b[0;34m:\u001b[0m\u001b[0;34m[\u001b[0m\u001b[0;36m1000\u001b[0m\u001b[0;34m]\u001b[0m\u001b[0;34m,\u001b[0m \u001b[0;34m'RMSProp'\u001b[0m \u001b[0;34m:\u001b[0m \u001b[0;34m[\u001b[0m\u001b[0;32mTrue\u001b[0m\u001b[0;34m]\u001b[0m\u001b[0;34m,\u001b[0m \u001b[0;34m'nesterov'\u001b[0m \u001b[0;34m:\u001b[0m \u001b[0;34m[\u001b[0m\u001b[0;32mTrue\u001b[0m\u001b[0;34m,\u001b[0m\u001b[0;32mFalse\u001b[0m\u001b[0;34m]\u001b[0m \u001b[0;34m,\u001b[0m \u001b[0;34m'beta'\u001b[0m \u001b[0;34m:\u001b[0m \u001b[0mlist_beta\u001b[0m \u001b[0;34m}\u001b[0m\u001b[0;34m\u001b[0m\u001b[0;34m\u001b[0m\u001b[0m\n\u001b[1;32m     20\u001b[0m \u001b[0;34m\u001b[0m\u001b[0m\n\u001b[0;32m---> 21\u001b[0;31m grid_results = grid_search(MLP, dict_models, dict_params, \n\u001b[0m\u001b[1;32m     22\u001b[0m                            \u001b[0minput_data\u001b[0m\u001b[0;34m,\u001b[0m \u001b[0mlabels\u001b[0m\u001b[0;34m,\u001b[0m \u001b[0mMEE\u001b[0m\u001b[0;34m,\u001b[0m\u001b[0;34m\u001b[0m\u001b[0;34m\u001b[0m\u001b[0m\n\u001b[1;32m     23\u001b[0m                            verbose = 1, kind = 'k_fold', k = 4)\n",
      "\u001b[0;32m~/programmi/Machine_learning_project/docs/notebooks/../../NN/utils/grid_search.py\u001b[0m in \u001b[0;36mgrid_search\u001b[0;34m(model, dict_models, dict_params, input_data, labels, error, verbose, **kwargs)\u001b[0m\n\u001b[1;32m     88\u001b[0m \u001b[0;34m\u001b[0m\u001b[0m\n\u001b[1;32m     89\u001b[0m                 \u001b[0;31m# Train the candidate with the parameters in dict_params['train']\u001b[0m\u001b[0;34m\u001b[0m\u001b[0;34m\u001b[0m\u001b[0;34m\u001b[0m\u001b[0m\n\u001b[0;32m---> 90\u001b[0;31m                 candidate.train(data_k, labels_k, val_k, val_labels_k, \n\u001b[0m\u001b[1;32m     91\u001b[0m                         **dict_candidate['train'])\n\u001b[1;32m     92\u001b[0m                 \u001b[0;31m# predict on validation data\u001b[0m\u001b[0;34m\u001b[0m\u001b[0;34m\u001b[0m\u001b[0;34m\u001b[0m\u001b[0m\n",
      "\u001b[0;32m~/programmi/Machine_learning_project/docs/notebooks/../../NN/MLP.py\u001b[0m in \u001b[0;36mtrain\u001b[0;34m(self, input_data, labels, val_data, val_labels, epoch, eta, eta_params, lamb, norm_L, alpha, nesterov, clean_net, save_rate, batch_size, filename, verbose, RMSProp, beta, error_threshold, patience)\u001b[0m\n\u001b[1;32m    187\u001b[0m                 \u001b[0mself\u001b[0m\u001b[0;34m.\u001b[0m\u001b[0mfeedforward\u001b[0m\u001b[0;34m(\u001b[0m\u001b[0;34m)\u001b[0m\u001b[0;34m\u001b[0m\u001b[0;34m\u001b[0m\u001b[0m\n\u001b[1;32m    188\u001b[0m             \u001b[0;32melse\u001b[0m\u001b[0;34m:\u001b[0m\u001b[0;34m\u001b[0m\u001b[0;34m\u001b[0m\u001b[0m\n\u001b[0;32m--> 189\u001b[0;31m                 \u001b[0mself\u001b[0m\u001b[0;34m.\u001b[0m\u001b[0mfeedforward\u001b[0m\u001b[0;34m(\u001b[0m\u001b[0;34m)\u001b[0m\u001b[0;34m\u001b[0m\u001b[0;34m\u001b[0m\u001b[0m\n\u001b[0m\u001b[1;32m    190\u001b[0m                 \u001b[0mself\u001b[0m\u001b[0;34m.\u001b[0m\u001b[0mlearning_step\u001b[0m\u001b[0;34m(\u001b[0m\u001b[0mlabels\u001b[0m\u001b[0;34m)\u001b[0m\u001b[0;34m\u001b[0m\u001b[0;34m\u001b[0m\u001b[0m\n\u001b[1;32m    191\u001b[0m             \u001b[0mMEE\u001b[0m\u001b[0;34m,\u001b[0m \u001b[0mMSE\u001b[0m \u001b[0;34m=\u001b[0m \u001b[0mMEE_MSE\u001b[0m\u001b[0;34m(\u001b[0m\u001b[0mlabels\u001b[0m\u001b[0;34m,\u001b[0m\u001b[0mself\u001b[0m\u001b[0;34m.\u001b[0m\u001b[0mnetwork\u001b[0m\u001b[0;34m[\u001b[0m\u001b[0;34m-\u001b[0m\u001b[0;36m1\u001b[0m\u001b[0;34m]\u001b[0m\u001b[0;34m.\u001b[0m\u001b[0mout\u001b[0m\u001b[0;34m)\u001b[0m\u001b[0;34m\u001b[0m\u001b[0;34m\u001b[0m\u001b[0m\n",
      "\u001b[0;32m~/programmi/Machine_learning_project/docs/notebooks/../../NN/MLP.py\u001b[0m in \u001b[0;36mfeedforward\u001b[0;34m(self)\u001b[0m\n\u001b[1;32m    287\u001b[0m         \u001b[0;34m\"\"\" Move the input to the output of the net\"\"\"\u001b[0m\u001b[0;34m\u001b[0m\u001b[0;34m\u001b[0m\u001b[0m\n\u001b[1;32m    288\u001b[0m         \u001b[0;32mfor\u001b[0m \u001b[0mlay_prev\u001b[0m\u001b[0;34m,\u001b[0m\u001b[0mlay_next\u001b[0m \u001b[0;32min\u001b[0m \u001b[0mzip\u001b[0m\u001b[0;34m(\u001b[0m\u001b[0mself\u001b[0m\u001b[0;34m.\u001b[0m\u001b[0mnetwork\u001b[0m\u001b[0;34m[\u001b[0m\u001b[0;34m:\u001b[0m\u001b[0;34m-\u001b[0m\u001b[0;36m1\u001b[0m\u001b[0;34m:\u001b[0m\u001b[0;34m]\u001b[0m\u001b[0;34m,\u001b[0m\u001b[0mself\u001b[0m\u001b[0;34m.\u001b[0m\u001b[0mnetwork\u001b[0m\u001b[0;34m[\u001b[0m\u001b[0;36m1\u001b[0m\u001b[0;34m:\u001b[0m\u001b[0;34m:\u001b[0m\u001b[0;34m]\u001b[0m\u001b[0;34m)\u001b[0m\u001b[0;34m:\u001b[0m\u001b[0;34m\u001b[0m\u001b[0;34m\u001b[0m\u001b[0m\n\u001b[0;32m--> 289\u001b[0;31m             \u001b[0mlay_next\u001b[0m\u001b[0;34m.\u001b[0m\u001b[0minput\u001b[0m\u001b[0;34m=\u001b[0m\u001b[0mlay_prev\u001b[0m\u001b[0;34m.\u001b[0m\u001b[0mout\u001b[0m\u001b[0;34m\u001b[0m\u001b[0;34m\u001b[0m\u001b[0m\n\u001b[0m\u001b[1;32m    290\u001b[0m \u001b[0;34m\u001b[0m\u001b[0m\n\u001b[1;32m    291\u001b[0m     \u001b[0;32mdef\u001b[0m \u001b[0mfeedforward_validation\u001b[0m\u001b[0;34m(\u001b[0m\u001b[0mself\u001b[0m\u001b[0;34m)\u001b[0m\u001b[0;34m:\u001b[0m\u001b[0;34m\u001b[0m\u001b[0;34m\u001b[0m\u001b[0m\n",
      "\u001b[0;32m~/programmi/Machine_learning_project/docs/notebooks/../../NN/layer.py\u001b[0m in \u001b[0;36mout\u001b[0;34m(self)\u001b[0m\n\u001b[1;32m    108\u001b[0m         \"\"\"\n\u001b[1;32m    109\u001b[0m         \u001b[0;31m#scorrendo le colonne trovi i net di tutti i neuroni, scorrendo le righe cambi pattern\u001b[0m\u001b[0;34m\u001b[0m\u001b[0;34m\u001b[0m\u001b[0;34m\u001b[0m\u001b[0m\n\u001b[0;32m--> 110\u001b[0;31m         \u001b[0;32mreturn\u001b[0m \u001b[0mself\u001b[0m\u001b[0;34m.\u001b[0m\u001b[0mfunc\u001b[0m\u001b[0;34m(\u001b[0m\u001b[0mself\u001b[0m\u001b[0;34m.\u001b[0m\u001b[0mnet\u001b[0m\u001b[0;34m)\u001b[0m\u001b[0;34m\u001b[0m\u001b[0;34m\u001b[0m\u001b[0m\n\u001b[0m\u001b[1;32m    111\u001b[0m \u001b[0;34m\u001b[0m\u001b[0m\n\u001b[1;32m    112\u001b[0m     \u001b[0;34m@\u001b[0m\u001b[0mproperty\u001b[0m\u001b[0;34m\u001b[0m\u001b[0;34m\u001b[0m\u001b[0m\n",
      "\u001b[0;32m~/programmi/Machine_learning_project/docs/notebooks/../../NN/layer.py\u001b[0m in \u001b[0;36mnet\u001b[0;34m(self)\u001b[0m\n\u001b[1;32m     91\u001b[0m         \u001b[0mweight\u001b[0m \u001b[0;34m(\u001b[0m\u001b[0madding\u001b[0m \u001b[0mthe\u001b[0m \u001b[0mbias\u001b[0m\u001b[0;34m)\u001b[0m\u001b[0;34m.\u001b[0m\u001b[0;34m\u001b[0m\u001b[0;34m\u001b[0m\u001b[0m\n\u001b[1;32m     92\u001b[0m         \"\"\"\n\u001b[0;32m---> 93\u001b[0;31m         \u001b[0;32mreturn\u001b[0m \u001b[0mself\u001b[0m\u001b[0;34m.\u001b[0m\u001b[0minput\u001b[0m\u001b[0;34m.\u001b[0m\u001b[0mdot\u001b[0m\u001b[0;34m(\u001b[0m \u001b[0mself\u001b[0m\u001b[0;34m.\u001b[0m\u001b[0mweight\u001b[0m\u001b[0;34m.\u001b[0m\u001b[0mT\u001b[0m \u001b[0;34m)\u001b[0m \u001b[0;34m+\u001b[0m \u001b[0mself\u001b[0m\u001b[0;34m.\u001b[0m\u001b[0mbias\u001b[0m\u001b[0;34m\u001b[0m\u001b[0;34m\u001b[0m\u001b[0m\n\u001b[0m\u001b[1;32m     94\u001b[0m \u001b[0;34m\u001b[0m\u001b[0m\n\u001b[1;32m     95\u001b[0m     \u001b[0;34m@\u001b[0m\u001b[0mproperty\u001b[0m\u001b[0;34m\u001b[0m\u001b[0;34m\u001b[0m\u001b[0m\n",
      "\u001b[0;31mKeyboardInterrupt\u001b[0m: "
     ]
    }
   ],
   "source": [
    "import utils.grid_search\n",
    "importlib.reload(utils.grid_search)\n",
    "from utils.grid_search import grid_search\n",
    "\n",
    "# Structure to test: \n",
    "n_feat = np.shape(labels)[1]\n",
    "model1 = {'structure':[10, n_feat], 'func':['sigmoid', 'linear'], 'starting_points': [0.5]*2}\n",
    "model2 = {'structure':[15, n_feat], 'func':['sigmoid', 'linear'], 'starting_points': [0.5]*2}\n",
    "model3 = {'structure':[20, n_feat], 'func':['sigmoid', 'linear'], 'starting_points': [0.5]*2}\n",
    "model5= {'structure':[4,4, n_feat], 'func':['sigmoid','sigmoid','linear'], 'starting_points': [0.5]*2}\n",
    "model4 = {'structure':[5,4,n_feat], 'func':['sigmoid','sigmoid','linear'],'starting_points': [0.5]*2}\n",
    "model6 = {'structure':[6,6,n_feat], 'func':['sigmoid','sigmoid','linear'],'starting_points': [0.5]*2}\n",
    "models = [model1, model2, model3, model4, model5, model6]\n",
    "dict_models = {f'Model{i}': m for i, m in enumerate(models)} \n",
    "\n",
    "list_eta = [1e-2,5e-3,1e-3,5e-4,1e-4]\n",
    "list_alpha = np.arange(0,0.3,0.1)\n",
    "list_lamb = np.arange(0,0,1) ; list_beta = np.arange(0.6,1,0.1)\n",
    "dict_params = {'eta':list_eta, 'alpha':list_alpha, 'lamb':list_lamb, 'epoch':[1000], 'RMSProp' : [True], 'nesterov' : [True,False] , 'beta' : list_beta }\n",
    "\n",
    "grid_results = grid_search(MLP, dict_models, dict_params, \n",
    "                           input_data, labels, MEE,\n",
    "                           verbose = 1, kind = 'k_fold', k = 4)"
   ]
  },
  {
   "cell_type": "code",
   "execution_count": null,
   "id": "clean-membrane",
   "metadata": {
    "scrolled": false
   },
   "outputs": [
    {
     "data": {
      "text/plain": [
       "{'train': {'eta': 0.01, 'alpha': 0, 'lamb': 0, 'epoch': 500, 'RMSProp': True},\n",
       " 'model': {'structure': [20, 2],\n",
       "  'func': ['sigmoid', 'linear'],\n",
       "  'starting_points': [0.5, 0.5]},\n",
       " 'model_name': 'Model0',\n",
       " 'Error': 1.2859711074696702}"
      ]
     },
     "execution_count": 15,
     "metadata": {},
     "output_type": "execute_result"
    }
   ],
   "source": [
    "grid_results[0]"
   ]
  }
 ],
 "metadata": {
  "kernelspec": {
   "display_name": "Python 3 (ipykernel)",
   "language": "python",
   "name": "python3"
  },
  "language_info": {
   "codemirror_mode": {
    "name": "ipython",
    "version": 3
   },
   "file_extension": ".py",
   "mimetype": "text/x-python",
   "name": "python",
   "nbconvert_exporter": "python",
   "pygments_lexer": "ipython3",
   "version": "3.8.10"
  }
 },
 "nbformat": 4,
 "nbformat_minor": 5
}
