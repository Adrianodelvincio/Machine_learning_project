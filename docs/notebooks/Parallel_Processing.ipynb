{
 "cells": [
  {
   "cell_type": "code",
   "execution_count": 8,
   "id": "ff60f7e9",
   "metadata": {},
   "outputs": [
    {
     "name": "stdout",
     "output_type": "stream",
     "text": [
      "[(0, 0.1), (1, 0.1), (2, 0.1), (3, 0.1), (4, 0.1), (5, 0.1), (6, 0.1), (7, 0.1)]\n",
      "Non Parallel Process: 0.802 s\n",
      "Parallel Process: 0.104 s\n",
      "\n",
      "Result sequential: [0, 1, 2, 3, 4, 5, 6, 7]\n",
      "Result parallel: [0, 1, 2, 3, 4, 5, 6, 7]\n"
     ]
    }
   ],
   "source": [
    "import numpy as np\n",
    "from joblib import Parallel, delayed\n",
    "import time\n",
    "\n",
    "def Id(x, t):\n",
    "    time.sleep(t)\n",
    "    return x\n",
    "\n",
    "i_list = [(i,0.1,) for i in range(8)]\n",
    "print(i_list)\n",
    "\n",
    "start = time.time()\n",
    "l_seq = [(Id(*params)) for params in i_list]\n",
    "print(f'Non Parallel Process: {time.time()-start:.3f} s')\n",
    "\n",
    "jobs = 8\n",
    "start = time.time()\n",
    "l_para = Parallel(n_jobs=jobs)(delayed(Id)(*params) for params in i_list)\n",
    "print(f'Parallel Process: {time.time()-start:.3f} s')\n",
    "\n",
    "\n",
    "print(f'\\nResult sequential: {l_seq}')\n",
    "print(f'Result parallel: {l_para}')"
   ]
  },
  {
   "cell_type": "raw",
   "id": "9a1988d1",
   "metadata": {},
   "source": []
  }
 ],
 "metadata": {
  "kernelspec": {
   "display_name": "Python 3 (ipykernel)",
   "language": "python",
   "name": "python3"
  },
  "language_info": {
   "codemirror_mode": {
    "name": "ipython",
    "version": 3
   },
   "file_extension": ".py",
   "mimetype": "text/x-python",
   "name": "python",
   "nbconvert_exporter": "python",
   "pygments_lexer": "ipython3",
   "version": "3.9.7"
  }
 },
 "nbformat": 4,
 "nbformat_minor": 5
}
